{
 "cells": [
  {
   "cell_type": "markdown",
   "id": "e1904f16",
   "metadata": {},
   "source": [
    "This is a small script just to play around with requesting doi / sdoi.\n",
    "Basically, I sent in a paper, with all my references as short DOIs. In Latex, I used the cite-keys as AuthorYearSDOI. Now, the journal changed them all to DOI's and asked me to confirm. That is a lot of work to do manually. So, I figured that I might as well learn a bit of python, requests, regular expressions, jupyter, and so forth.\n",
    "\n",
    "Enjoy!"
   ]
  },
  {
   "cell_type": "code",
   "execution_count": 9,
   "id": "4ea7fa6f",
   "metadata": {},
   "outputs": [],
   "source": [
    "#all we need?\n",
    "import requests\n",
    "import re\n",
    "\n",
    "# the URLs we will use\n",
    "url_DOI = 'https://doi.org/'\n",
    "url_sDOI = 'https://shortdoi.org/' # short DOI's are sweet!"
   ]
  },
  {
   "cell_type": "markdown",
   "id": "8993d749",
   "metadata": {},
   "source": [
    "Let us test requests:"
   ]
  },
  {
   "cell_type": "code",
   "execution_count": 10,
   "id": "780061ed",
   "metadata": {},
   "outputs": [
    {
     "name": "stdout",
     "output_type": "stream",
     "text": [
      "[<Response [302]>]\n",
      "302 https://doi.org/10.1016/J.CPC.2021.107987\n"
     ]
    }
   ],
   "source": [
    "test_DOI = '10.1016/J.CPC.2021.107987'\n",
    "\n",
    "response = requests.get(url_DOI + test_DOI)\n",
    "print(response.history)\n",
    "for resp in response.history:\n",
    "    print(resp.status_code, resp.url)"
   ]
  },
  {
   "cell_type": "code",
   "execution_count": 11,
   "id": "c0bf4751",
   "metadata": {},
   "outputs": [
    {
     "name": "stdout",
     "output_type": "stream",
     "text": [
      "[<Response [302]>, <Response [301]>, <Response [302]>]\n",
      "302 https://shortdoi.org/10/f9bw\n",
      "301 https://doi.org/10/f9bw\n",
      "302 https://doi.org/10.1016/J.CPC.2021.107987\n"
     ]
    }
   ],
   "source": [
    "test_sDOI = '10/f9bw'\n",
    "\n",
    "response = requests.get(url_sDOI + test_sDOI)\n",
    "print(response.history)\n",
    "for resp in response.history:\n",
    "    print(resp.status_code, resp.url)"
   ]
  },
  {
   "cell_type": "markdown",
   "id": "c8c3b9ad",
   "metadata": {},
   "source": [
    "But, there is the thing, that a DOI redirects you to the actual URL. And, a short DOI may redirect more. Let's investigate!\n",
    "...but how?"
   ]
  },
  {
   "cell_type": "code",
   "execution_count": 12,
   "id": "5ed8177c",
   "metadata": {},
   "outputs": [],
   "source": [
    "def print_redirects(url):\n",
    "    response = requests.get(url)\n",
    "    if not response.history:\n",
    "        print(f'No redirects for {url}')\n",
    "    else:\n",
    "        print(f'Redirects for {url}')\n",
    "        for resp in response.history:\n",
    "            print(resp.status_code, resp.url)\n"
   ]
  },
  {
   "cell_type": "code",
   "execution_count": 13,
   "id": "723df811",
   "metadata": {},
   "outputs": [
    {
     "name": "stdout",
     "output_type": "stream",
     "text": [
      "Redirects for https://doi.org/\n",
      "301 https://doi.org/\n",
      "Redirects for https://doi.org/10.1016/J.CPC.2021.107987\n",
      "302 https://doi.org/10.1016/J.CPC.2021.107987\n",
      "No redirects for https://shortdoi.org/\n",
      "Redirects for https://shortdoi.org/10/f9bw\n",
      "302 https://shortdoi.org/10/f9bw\n",
      "301 https://doi.org/10/f9bw\n",
      "302 https://doi.org/10.1016/J.CPC.2021.107987\n"
     ]
    }
   ],
   "source": [
    "print_redirects(url_DOI)\n",
    "print_redirects(url_DOI + test_DOI)\n",
    "print_redirects(url_sDOI)\n",
    "print_redirects(url_sDOI + test_sDOI)"
   ]
  },
  {
   "cell_type": "markdown",
   "id": "a8609e36",
   "metadata": {},
   "source": [
    "Okey, but what does the request really contain? Let's inspect!"
   ]
  },
  {
   "cell_type": "code",
   "execution_count": 18,
   "id": "63e5a862",
   "metadata": {},
   "outputs": [
    {
     "data": {
      "text/plain": [
       "'<!DOCTYPE html PUBLIC \"-//W3C//DTD XHTML 1.0 Transitional//EN\"\\n        \"http://www.w3.org/TR/xhtml1/DTD/xhtml1-transitional.dtd\">\\n<html>\\n<head>\\n<title>shortDOI Service</title>\\n\\n<meta http-equiv=\"content-type\" content=\"text/html; charset=UTF-8\" />\\n\\n<link href=\"/style/new-style2.css\" rel=\"stylesheet\" type=\"text/css\" />\\n<style type=\"text/css\">\\n    .code {font-family: courier, courier-new;\\n                font-size: 12px;}\\n\\n    div.head1-shortdoi {\\n    font-size: 120%;\\n    color: #385FAB;\\n    padding: 0px 27px 10px 0px;\\n}\\n</style>\\n\\n</head>\\n\\n<body>\\n\\n<!-- TABLE FOR BANNER -->\\n\\n<table width=\"100%\" border=\"0\" cellpadding=\"0\" cellspacing=\"0\" bgcolor=\"#acacac\" align=\"center\">\\n  <tr>\\n    <td bgcolor=\"#acacac\" >\\n\\t    <table width=\"100%\"><tr><td><img src=\"/img/shortDOI.gif\" alt=\"Logo\" width=\"620\" height=\"100\" border=\"0\" /></td><td align=\"right\"><img src=\"/img/shortDOI-2.gif\" alt=\"Logo\" width=\"150\" height=\"100\" border=\"0\" /></td></tr></table>\\n\\n </td>\\n  </tr>\\n</table>\\n\\n<!-- END TABLE FOR BANNER -->\\n\\n<div style=\"height:1px;background:#000000\"></div>\\n\\n<!-- TABLE FOR CONTENT -->\\n\\n<table width=\"100%\" border=\"0\" cellpadding=\"0\" cellspacing=\"0\" bgcolor=\"#ffffff\">\\n<tr>\\n<td>\\n<h2>shortDOI<sup>&reg;</sup></h2>\\n\\n\\n\\n\\n\\n<!-- START PAGE CONTENT HERE -->\\n\\n<div class=\"para\">Your request was processed. The previously-created shortcut for 10.1016/J.CPC.2021.107987 is the handle:</div>\\n\\n<div class=\"para\">10/f9bw</div>\\n\\n<div class=\"para\">The shortcut HTTP URI is:</div>\\n\\n<div class=\"para\"><a href=\"https://doi.org/f9bw\" class=\"norm\">https://doi.org/f9bw</a></div>\\n\\n<div class=\"para\">This shortcut will return the same results as <a href=\"https://dx.doi.org/10.1016/J.CPC.2021.107987\" class=\"norm\">https://dx.doi.org/10.1016/J.CPC.2021.107987</a>, and doi:10/f9bw can be used in place of doi:10.1016/J.CPC.2021.107987.</div>\\n\\n<div class=\"divider-full\">&nbsp;</div>\\n<div class=\"para\">Return to <a href=\"/\" class=\"norm\">shortDOI Service</a>.\\n</div>\\n\\n<!-- END PAGE CONTENT -->\\n\\n\\n\\n\\n\\n</td>\\n</tr>\\n</table>\\n\\n<div class=\"divider-full\">&nbsp;</div>\\n\\n<p class=\"footer\">shortDOI<sup>&reg;</sup> and DOI<sup>&reg;</sup> are registered trademarks of the International DOI Foundation.</p>\\n\\n<p class=\"footer\">\\nSend inquiries to contact@doi.org.\\n</p>\\n\\n<p class=\"footer\">Updated 2 April 2013</p>\\n\\n</body>\\n</html>\\n'"
      ]
     },
     "execution_count": 18,
     "metadata": {},
     "output_type": "execute_result"
    }
   ],
   "source": [
    "content = requests.get(url_sDOI + test_DOI).text\n",
    "content"
   ]
  },
  {
   "cell_type": "markdown",
   "id": "eac243b6",
   "metadata": {},
   "source": [
    "Okey, fine, loads of stuff. Now, we could handle this HTML through BeautifulSoup, BS4 - I think it was, but then I have to relearn that. Aaaaaand, right now, I want to relearn regular expressions instead. Here we go!"
   ]
  },
  {
   "cell_type": "code",
   "execution_count": 19,
   "id": "eaf094f8",
   "metadata": {},
   "outputs": [
    {
     "data": {
      "text/plain": [
       "'10/f9bw'"
      ]
     },
     "execution_count": 19,
     "metadata": {},
     "output_type": "execute_result"
    }
   ],
   "source": [
    "pattern = re.compile('.*handle.*?\\n\\n.*?>(.*?)<.*')\n",
    "pattern.search(content).group(1)"
   ]
  },
  {
   "cell_type": "markdown",
   "id": "7c4f4fbc",
   "metadata": {},
   "source": [
    "That was a lot more hazze to figure out than it should have been! But, now we are here, and things are good :)\n",
    "Of course, we could have solved things with pure python instead, but is that as robust?"
   ]
  },
  {
   "cell_type": "code",
   "execution_count": 23,
   "id": "9e2c74a1",
   "metadata": {},
   "outputs": [
    {
     "name": "stdout",
     "output_type": "stream",
     "text": [
      "1386 15 <class 'int'> <class 'int'>\n"
     ]
    },
    {
     "data": {
      "text/plain": [
       "'para\">10/f9bw</'"
      ]
     },
     "execution_count": 23,
     "metadata": {},
     "output_type": "execute_result"
    }
   ],
   "source": [
    "start = (content).find('handle') + len(':</div>\\n\\n<div class=\"para\">')\n",
    "end = (content)[start:].find('div')\n",
    "print(start, end, type(start), type(end))\n",
    "content[start:start+end]"
   ]
  },
  {
   "cell_type": "markdown",
   "id": "60f10f10",
   "metadata": {},
   "source": [
    "Seems like more hazzle....\n",
    "Let's make some functions using regex instead!"
   ]
  },
  {
   "cell_type": "code",
   "execution_count": 26,
   "id": "7294e980",
   "metadata": {},
   "outputs": [],
   "source": [
    "def get_sdoi_py(doi):\n",
    "    content = requests.get(url_sDOI + doi).text\n",
    "    start = (content).find('handle') + len(':</div>\\n\\n<div class=\"para\">')\n",
    "    end = (content)[start:].find('div')\n",
    "    return content[start:start+end]"
   ]
  },
  {
   "cell_type": "code",
   "execution_count": 27,
   "id": "4366c13e",
   "metadata": {},
   "outputs": [],
   "source": [
    "def get_sdoi_re(doi):\n",
    "    content = requests.get(url_sDOI + doi).text\n",
    "    pattern = re.compile('.*handle.*?\\n\\n.*?>(.*?)<.*')\n",
    "    return pattern.search(content).group(1)"
   ]
  },
  {
   "cell_type": "markdown",
   "id": "dd4dc400",
   "metadata": {},
   "source": [
    "Now, for a short test!"
   ]
  },
  {
   "cell_type": "code",
   "execution_count": 28,
   "id": "aae4c45b",
   "metadata": {},
   "outputs": [
    {
     "name": "stdout",
     "output_type": "stream",
     "text": [
      "para\">10/f9bw</\n",
      "10/f9bw\n"
     ]
    }
   ],
   "source": [
    "print(get_sdoi_py(test_DOI))\n",
    "print(get_sdoi_re(test_DOI))"
   ]
  },
  {
   "cell_type": "code",
   "execution_count": 29,
   "id": "2aca4575",
   "metadata": {},
   "outputs": [],
   "source": [
    "get_sdoi = get_sdoi_re"
   ]
  },
  {
   "cell_type": "markdown",
   "id": "3d62781d",
   "metadata": {},
   "source": [
    "**So far, so good!**\n",
    "This was all the intro, now for a short demonstration!"
   ]
  },
  {
   "cell_type": "code",
   "execution_count": 30,
   "id": "bbd8d81d",
   "metadata": {},
   "outputs": [
    {
     "data": {
      "text/plain": [
       "['P.Wedin,IEEEElectr.Insul.Mag.30(2014)20–25,https://doi.org/10.1109/MEI.2014.6943430.',\n",
       " 'O.Lesaint,J.Phys.D,Appl.Phys.49(2016)144001,https://doi.org/10.1088/0022-3727/49/14/144001.',\n",
       " 'A.Sun,C.Huo,J.Zhuang,HighVolt.1(2016)74–80,https://doi.org/10.1049/hve.2016.0016.',\n",
       " 'B.Farazmand,Br.J.Appl.Phys.12(1961)251–254,https://doi.org/10.1088/0508-3443/12/5/310.',\n",
       " 'L.Niemeyer,L.Pietronero,H.J.Wiesmann,Phys.Rev.Lett.52(1984)1033–1036,https://doi.org/10.1103/PhysRevLett.52.1033.',\n",
       " 'A.L.Kupershtok,Sov.Tech.Phys.Lett.18(1992)647–649.',\n",
       " 'P.Biller,in:Proc.1993IEEE11thInt.Conf.Conduct.Break.Dielectr.Liq.(ICDL’93),1993,pp.199–203.']"
      ]
     },
     "execution_count": 30,
     "metadata": {},
     "output_type": "execute_result"
    }
   ],
   "source": [
    "# This is copy-pasting from a referencelist\n",
    "ref_list = \"\"\"\n",
    "[1] P. Wedin, IEEE Electr. Insul. Mag. 30 (2014) 20–25, https://doi .org /10 .1109 /MEI .\n",
    "2014 .6943430.\n",
    "[2] O. Lesaint, J. Phys. D, Appl. Phys. 49 (2016) 144001, https://doi .org /10 .1088 /\n",
    "0022 -3727 /49 /14 /144001.\n",
    "[3] A. Sun, C. Huo, J. Zhuang, High Volt. 1 (2016) 74–80, https://doi .org /10 .1049 /\n",
    "hve .2016 .0016.\n",
    "[4] B. Farazmand, Br. J. Appl. Phys. 12 (1961) 251–254, https://doi .org /10 .1088 /\n",
    "0508 -3443 /12 /5 /310.\n",
    "[5] L. Niemeyer, L. Pietronero, H.J. Wiesmann, Phys. Rev. Lett. 52 (1984)\n",
    "1033–1036, https://doi .org /10 .1103 /PhysRevLett .52 .1033.\n",
    "[6] A.L. Kupershtok, Sov. Tech. Phys. Lett. 18 (1992) 647–649.\n",
    "[7] P. Biller, in: Proc. 1993 IEEE 11th Int. Conf. Conduct. Break. Dielectr. Liq.\n",
    "(ICDL’93), 1993, pp. 199–203.\n",
    "[8] D.I. Karpov, A.L. Kupershtokh, in: Conf. Rec. 1998 IEEE Int. Symp. Electr. Insul.\n",
    "(Cat No98CH36239), vol. 2, 1998, pp. 607–610.\n",
    "\"\"\"\n",
    "# Then a bit of manipulation\n",
    "ref_compact = ref_list.replace(\" \", \"\").replace(\"\\n\", \"\")\n",
    "pattern = re.compile('.*?\\](.*?)\\[.*?')\n",
    "pattern.findall(ref_compact)\n"
   ]
  },
  {
   "cell_type": "markdown",
   "id": "e9edbf14",
   "metadata": {},
   "source": [
    "Seems to find what I wanted. Okey, next!"
   ]
  },
  {
   "cell_type": "code",
   "execution_count": 31,
   "id": "65b47e71",
   "metadata": {},
   "outputs": [
    {
     "name": "stdout",
     "output_type": "stream",
     "text": [
      "[1]P.Wedin,IEEEElectr.Insul.Mag.30(2014)20–25,https://doi.org/10.1109/MEI.2014.6943430.[2]O.Lesaint,J.Phys.D,Appl.Phys.49(2016)144001,https://doi.org/10.1088/0022-3727/49/14/144001.[3]A.Sun,C.Huo,J.Zhuang,HighVolt.1(2016)74–80,https://doi.org/10.1049/hve.2016.0016.[4]B.Farazmand,Br.J.Appl.Phys.12(1961)251–254,https://doi.org/10.1088/0508-3443/12/5/310.[END]\n",
      "['P.Wedin,IEEEElectr.Insul.Mag.30(2014)20–25,https://doi.org/10.1109/MEI.2014.6943430.', 'O.Lesaint,J.Phys.D,Appl.Phys.49(2016)144001,https://doi.org/10.1088/0022-3727/49/14/144001.', 'A.Sun,C.Huo,J.Zhuang,HighVolt.1(2016)74–80,https://doi.org/10.1049/hve.2016.0016.', 'B.Farazmand,Br.J.Appl.Phys.12(1961)251–254,https://doi.org/10.1088/0508-3443/12/5/310.']\n",
      "['10.1109/MEI.2014.6943430', '10.1088/0022-3727/49/14/144001', '10.1049/hve.2016.0016', '10.1088/0508-3443/12/5/310']\n",
      "['10/cxmk', '10/cxmf', '10/dbt2', '10/bhcrhp']\n"
     ]
    }
   ],
   "source": [
    "# Let's see what need to be done to get the sDOI's out of this list!\n",
    "ref_list = \"\"\"\n",
    "[1] P. Wedin, IEEE Electr. Insul. Mag. 30 (2014) 20–25, https://doi .org /10 .1109 /MEI .\n",
    "2014 .6943430.\n",
    "[2] O. Lesaint, J. Phys. D, Appl. Phys. 49 (2016) 144001, https://doi .org /10 .1088 /\n",
    "0022 -3727 /49 /14 /144001.\n",
    "[3] A. Sun, C. Huo, J. Zhuang, High Volt. 1 (2016) 74–80, https://doi .org /10 .1049 /\n",
    "hve .2016 .0016.\n",
    "[4] B. Farazmand, Br. J. Appl. Phys. 12 (1961) 251–254, https://doi .org /10 .1088 /\n",
    "0508 -3443 /12 /5 /310.\n",
    "[END]\n",
    "\"\"\"\n",
    "# Note, I added the END just to hack this, because I did not want to spend more time on it.\n",
    "\n",
    "ref_compact = ref_list.replace(\" \", \"\").replace(\"\\n\", \"\")\n",
    "print(ref_compact)\n",
    "pattern = re.compile('.*?\\](.*?)\\[.*?')\n",
    "print(pattern.findall(ref_compact))\n",
    "pattern2 = re.compile('.org/(.*).')\n",
    "print([pattern2.findall(s)[0] for s in pattern.findall(ref_compact)])\n",
    "print([get_sdoi(pattern2.findall(s)[0]) for s in pattern.findall(ref_compact)])"
   ]
  },
  {
   "cell_type": "markdown",
   "id": "2e959821",
   "metadata": {},
   "source": [
    "Seems like I do get what I wanted in the end there!\n",
    "Time to build a function for it!"
   ]
  },
  {
   "cell_type": "code",
   "execution_count": 32,
   "id": "a134ff3c",
   "metadata": {},
   "outputs": [
    {
     "data": {
      "text/plain": [
       "['10/cxmk', '10/cxmf', '10/dbt2', '10/bhcrhp']"
      ]
     },
     "execution_count": 32,
     "metadata": {},
     "output_type": "execute_result"
    }
   ],
   "source": [
    "def refs2sdoi(refs):\n",
    "    refs = refs.replace(\" \", \"\").replace(\"\\n\", \"\")  # compact stuff\n",
    "    refs = refs + '[END]FictiveReference!'\n",
    "    \n",
    "    pattern = re.compile('.*?\\](.*?)\\[.*?')\n",
    "    ref_list = pattern.findall(ref_compact)\n",
    "    pattern2 = re.compile('.org/(.*).')\n",
    "    doi_list = [pattern2.findall(s) for s in ref_list]\n",
    "    doi_list = [doi[0] if doi else None for doi in doi_list]\n",
    "    sdoi_list = [get_sdoi(doi) if doi else None for doi in doi_list]\n",
    "    return ref_list, doi_list, sdoi_list\n",
    "    \n",
    "r, d, s = refs2sdoi(ref_list)\n",
    "s"
   ]
  },
  {
   "cell_type": "markdown",
   "id": "2930afad",
   "metadata": {},
   "source": [
    "Works!"
   ]
  },
  {
   "cell_type": "markdown",
   "id": "fd1b8c0a",
   "metadata": {},
   "source": [
    "**Secret**\n",
    "The point of this was actually to compare to my own list. Time to manipulate the list, and make the comparinson!"
   ]
  },
  {
   "cell_type": "code",
   "execution_count": 37,
   "id": "fd9592b9",
   "metadata": {},
   "outputs": [],
   "source": [
    "my_refs = \"\"\"Wedin2014cxmk\n",
    "Lesaint2016cxmf\n",
    "Sun2016dbt2\n",
    "Farazmand1961bhcrhp\n",
    "Niemeyer1984d35qr4\n",
    "Kupershtok92stpl\n",
    "Biller1993dctxz7\n",
    "\"\"\""
   ]
  },
  {
   "cell_type": "code",
   "execution_count": 38,
   "id": "89c7975d",
   "metadata": {},
   "outputs": [
    {
     "data": {
      "text/plain": [
       "['10/cxmk', '10/cxmf', '10/dbt2', '10/bhcrhp', '10/d35qr4', None, '10/dctxz7']"
      ]
     },
     "execution_count": 38,
     "metadata": {},
     "output_type": "execute_result"
    }
   ],
   "source": [
    "pattern = re.compile('.*?\\d\\d\\d\\d(.*)')\n",
    "my_sdoi = [pattern.findall(l) for l in my_refs.splitlines()]\n",
    "my_sdoi = ['10/'+doi[0] if doi else None for doi in my_sdoi]\n",
    "my_sdoi"
   ]
  },
  {
   "cell_type": "code",
   "execution_count": 39,
   "id": "adbfeca3",
   "metadata": {},
   "outputs": [
    {
     "name": "stdout",
     "output_type": "stream",
     "text": [
      "True ('10/cxmk', '10/cxmk', '10.1109/MEI.2014.6943430', 'Wedin2014cxmk')\n",
      "True ('10/cxmf', '10/cxmf', '10.1088/0022-3727/49/14/144001', 'Lesaint2016cxmf')\n",
      "True ('10/dbt2', '10/dbt2', '10.1049/hve.2016.0016', 'Sun2016dbt2')\n",
      "True ('10/bhcrhp', '10/bhcrhp', '10.1088/0508-3443/12/5/310', 'Farazmand1961bhcrhp')\n"
     ]
    }
   ],
   "source": [
    "for t in zip(my_sdoi, s, d, my_refs.splitlines()):\n",
    "    print(t[0]==t[1], t)"
   ]
  },
  {
   "cell_type": "markdown",
   "id": "eac9c708",
   "metadata": {},
   "source": [
    "**Done!** Worth it? I dont know... But was a nice exercise!"
   ]
  },
  {
   "cell_type": "code",
   "execution_count": null,
   "id": "f4086b57",
   "metadata": {},
   "outputs": [],
   "source": []
  }
 ],
 "metadata": {
  "kernelspec": {
   "display_name": "Python 3",
   "language": "python",
   "name": "python3"
  },
  "language_info": {
   "codemirror_mode": {
    "name": "ipython",
    "version": 3
   },
   "file_extension": ".py",
   "mimetype": "text/x-python",
   "name": "python",
   "nbconvert_exporter": "python",
   "pygments_lexer": "ipython3",
   "version": "3.8.8"
  }
 },
 "nbformat": 4,
 "nbformat_minor": 5
}
